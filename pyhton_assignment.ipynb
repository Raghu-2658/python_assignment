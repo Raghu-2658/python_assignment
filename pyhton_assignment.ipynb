{
  "nbformat": 4,
  "nbformat_minor": 0,
  "metadata": {
    "colab": {
      "provenance": [],
      "authorship_tag": "ABX9TyORwxMYVzgFuNkcfjAumdOs",
      "include_colab_link": true
    },
    "kernelspec": {
      "name": "python3",
      "display_name": "Python 3"
    },
    "language_info": {
      "name": "python"
    }
  },
  "cells": [
    {
      "cell_type": "markdown",
      "metadata": {
        "id": "view-in-github",
        "colab_type": "text"
      },
      "source": [
        "<a href=\"https://colab.research.google.com/github/Raghu-2658/python_assignment/blob/main/pyhton_assignment.ipynb\" target=\"_parent\"><img src=\"https://colab.research.google.com/assets/colab-badge.svg\" alt=\"Open In Colab\"/></a>"
      ]
    },
    {
      "cell_type": "code",
      "execution_count": 1,
      "metadata": {
        "colab": {
          "base_uri": "https://localhost:8080/"
        },
        "id": "YZFA85oxluQb",
        "outputId": "f22a8360-1bd5-4095-81ac-139f6f2f8734"
      },
      "outputs": [
        {
          "output_type": "stream",
          "name": "stdout",
          "text": [
            "Expected output = h\n"
          ]
        }
      ],
      "source": [
        "n = [i for i in 'hai' if i not in 'aeiou' ]\n",
        "b = ''.join(n)\n",
        "print(f\"Expected output = {b}\")"
      ]
    },
    {
      "cell_type": "code",
      "source": [
        "n = [i for i in 'data' if i not in 'aeiou' ]\n",
        "b = ''.join(n)\n",
        "print(f\"Expected output = {b}\")"
      ],
      "metadata": {
        "colab": {
          "base_uri": "https://localhost:8080/"
        },
        "id": "gMEvkXtgmGZa",
        "outputId": "5e52c1e4-9fb2-407b-a79e-8faa889366d7"
      },
      "execution_count": 2,
      "outputs": [
        {
          "output_type": "stream",
          "name": "stdout",
          "text": [
            "Expected output = dt\n"
          ]
        }
      ]
    },
    {
      "cell_type": "code",
      "source": [
        "n = [10, 11, 50, 34]\n",
        "output = []\n",
        "a = 0\n",
        "for i in n:\n",
        "  b = int(f\"{i}{a}\")\n",
        "  output.append(b)\n",
        "  a = a + 1\n",
        "print(f\"Expected Output = {output}\")"
      ],
      "metadata": {
        "colab": {
          "base_uri": "https://localhost:8080/"
        },
        "id": "Z3ksT023mndE",
        "outputId": "510c529b-56f5-4540-9e4a-59e429bbd9ed"
      },
      "execution_count": 3,
      "outputs": [
        {
          "output_type": "stream",
          "name": "stdout",
          "text": [
            "Expected Output = [100, 111, 502, 343]\n"
          ]
        }
      ]
    },
    {
      "cell_type": "code",
      "source": [
        "for i in range(1,51):\n",
        "   if i%2!=0 and i%3!=0:\n",
        "    print(i)"
      ],
      "metadata": {
        "colab": {
          "base_uri": "https://localhost:8080/"
        },
        "id": "LX3poiAfm8li",
        "outputId": "f79c2258-e021-4005-b66c-0747f0af08d0"
      },
      "execution_count": 6,
      "outputs": [
        {
          "output_type": "stream",
          "name": "stdout",
          "text": [
            "1\n",
            "5\n",
            "7\n",
            "11\n",
            "13\n",
            "17\n",
            "19\n",
            "23\n",
            "25\n",
            "29\n",
            "31\n",
            "35\n",
            "37\n",
            "41\n",
            "43\n",
            "47\n",
            "49\n"
          ]
        }
      ]
    },
    {
      "cell_type": "code",
      "source": [
        "\n",
        "n = int(input(\"Enter a number: \"))\n",
        "if n <= 1:\n",
        "    print(\"There is no smallest divisor for numbers <= 1\")\n",
        "else:\n",
        "  for i in range(2,n+1):\n",
        "    if n % i == 0:\n",
        "      print(f\"smallest divisor of the {n} is: {i}\")\n",
        "      break\n",
        ""
      ],
      "metadata": {
        "colab": {
          "base_uri": "https://localhost:8080/"
        },
        "id": "5eqg68LjnhgC",
        "outputId": "54cd5015-f09c-4d6c-8a45-366cce890431"
      },
      "execution_count": 1,
      "outputs": [
        {
          "output_type": "stream",
          "name": "stdout",
          "text": [
            "Enter a number: 25\n",
            "smallest divisor of the 25 is: 5\n"
          ]
        }
      ]
    },
    {
      "cell_type": "code",
      "source": [
        "import math\n",
        "\n",
        "n = int(input(\"Enter a Number: \"))\n",
        "b = str(n)\n",
        "s = 0\n",
        "for i in b:\n",
        "  s = s + math.factorial(int(i))\n",
        "if s == n:\n",
        "  print(f\"{n} is a strong number\")\n",
        "else:\n",
        "  print(f\"{n} is not a strong number\")"
      ],
      "metadata": {
        "colab": {
          "base_uri": "https://localhost:8080/"
        },
        "id": "hZB3Z4-LJwUc",
        "outputId": "4c623220-fa27-45f6-ee84-b033987c2c90"
      },
      "execution_count": 3,
      "outputs": [
        {
          "output_type": "stream",
          "name": "stdout",
          "text": [
            "Enter a Number: 145\n",
            "145 is a strong number\n"
          ]
        }
      ]
    },
    {
      "cell_type": "code",
      "source": [
        "n = input(\"Enter a text: \")\n",
        "print(f\"Upper case: {n.upper()}\")\n",
        "print(f\"Lower case: {n.lower()}\")"
      ],
      "metadata": {
        "colab": {
          "base_uri": "https://localhost:8080/"
        },
        "id": "uYud2F7ZJ4nB",
        "outputId": "3cfa26e9-ae31-4583-d0d3-1f99de0eb045"
      },
      "execution_count": 4,
      "outputs": [
        {
          "output_type": "stream",
          "name": "stdout",
          "text": [
            "Enter a text: Beerelli Raghu\n",
            "Upper case: BEERELLI RAGHU\n",
            "Lower case: beerelli raghu\n"
          ]
        }
      ]
    },
    {
      "cell_type": "code",
      "source": [
        "n = input(\"input = \")\n",
        "b = n.replace(\" \",\"\")\n",
        "print(f\"Output = {b}\")"
      ],
      "metadata": {
        "colab": {
          "base_uri": "https://localhost:8080/"
        },
        "id": "jsO3NK_RKDvb",
        "outputId": "56cd8a51-a1d6-4cf7-cba8-8fc2640356e0"
      },
      "execution_count": 5,
      "outputs": [
        {
          "output_type": "stream",
          "name": "stdout",
          "text": [
            "input = raghu roy\n",
            "Output = raghuroy\n"
          ]
        }
      ]
    },
    {
      "cell_type": "code",
      "source": [
        "n = input(\"Enter a word: \")\n",
        "a = n[0]\n",
        "b = n[-1]\n",
        "c = n[1:-1]\n",
        "\n",
        "print(f\"Output: {a.upper()}{c.lower()}{b.upper()}\")"
      ],
      "metadata": {
        "colab": {
          "base_uri": "https://localhost:8080/"
        },
        "id": "G4fDFudlKL2u",
        "outputId": "5cfc88e4-c813-436b-84a9-91c807434fe6"
      },
      "execution_count": 6,
      "outputs": [
        {
          "output_type": "stream",
          "name": "stdout",
          "text": [
            "Enter a word: raghu roy\n",
            "Output: Raghu roY\n"
          ]
        }
      ]
    },
    {
      "cell_type": "code",
      "source": [
        "n = input(\"Enter a string: \")\n",
        "t = 0\n",
        "for i in n:\n",
        "  t = t + 1\n",
        "print(f\"Length of given string is: {t}\")"
      ],
      "metadata": {
        "colab": {
          "base_uri": "https://localhost:8080/"
        },
        "id": "E7nt6jEjKTyj",
        "outputId": "5064ffcf-5f4e-4300-e8da-37aada00882f"
      },
      "execution_count": 7,
      "outputs": [
        {
          "output_type": "stream",
          "name": "stdout",
          "text": [
            "Enter a string: Raghu Roy@\n",
            "Length of given string is: 10\n"
          ]
        }
      ]
    },
    {
      "cell_type": "code",
      "source": [],
      "metadata": {
        "id": "iuVEkmuCKaot"
      },
      "execution_count": null,
      "outputs": []
    }
  ]
}